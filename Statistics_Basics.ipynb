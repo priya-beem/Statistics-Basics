{
  "nbformat": 4,
  "nbformat_minor": 0,
  "metadata": {
    "colab": {
      "provenance": []
    },
    "kernelspec": {
      "name": "python3",
      "display_name": "Python 3"
    },
    "language_info": {
      "name": "python"
    }
  },
  "cells": [
    {
      "cell_type": "code",
      "execution_count": null,
      "metadata": {
        "id": "dwCVtf4RAqRh"
      },
      "outputs": [],
      "source": []
    },
    {
      "cell_type": "markdown",
      "source": [
        "Theory Questions:"
      ],
      "metadata": {
        "id": "Mysg5nDRAsj9"
      }
    },
    {
      "cell_type": "code",
      "source": [],
      "metadata": {
        "id": "illXu_U3Axh7"
      },
      "execution_count": null,
      "outputs": []
    },
    {
      "cell_type": "markdown",
      "source": [
        "1 Explain the different types of data (qualitative and quantitative) and provide examples of each. Discuss nominal, ordinal, interval, and ratio scales.\n",
        "\n",
        "Answer- Data can be broadly classified as qualitative (descriptive, non-numerical) or quantitative (numerical), with the latter further categorized into nominal, ordinal, interval, and ratio scales based on how the data can be measured and ordered.\n",
        "\n",
        "Qualitative Data:\n",
        "\n",
        "Definition:\n",
        "\n",
        "Describes qualities or characteristics that cannot be easily measured numerically.\n",
        "\n",
        "Examples:\n",
        "\n",
        "Eye color (blue, brown, green)\n",
        "\n",
        "Types of fruits (apple, banana, orange)\n",
        "\n",
        "Gender (male, female, non-binary)\n",
        "\n",
        "City (Bengaluru, New York, London)\n",
        "\n",
        "Descriptions of a person's personality (outgoing, shy, introverted)\n",
        "\n",
        "Diary accounts, case studies, photographs, audio recordings."
      ],
      "metadata": {
        "id": "Kaf6gFbTB-xG"
      }
    },
    {
      "cell_type": "code",
      "source": [],
      "metadata": {
        "id": "phDqrC2FCBh7"
      },
      "execution_count": null,
      "outputs": []
    },
    {
      "cell_type": "markdown",
      "source": [
        "2 What are the measures of central tendency, and when should you use each? Discuss the mean, median, and mode with examples and situations where each is appropriate.\n",
        "\n",
        "Answer- Measures of central tendency (mean, median, and mode) describe the \"center\" of a dataset, and the best choice depends on the data's nature and distribution. The mean is the average, the median is the middle value, and the mode is the most frequent value."
      ],
      "metadata": {
        "id": "D54Lbg1-CB9I"
      }
    },
    {
      "cell_type": "code",
      "source": [],
      "metadata": {
        "id": "xV7IZ2XgCFaA"
      },
      "execution_count": null,
      "outputs": []
    },
    {
      "cell_type": "markdown",
      "source": [
        "3.Explain the concept of dispersion. How do variance and standard deviation measure the spread of data?\n",
        "\n",
        "Answer- In statistics, dispersion refers to the extent to which data points in a dataset are spread out or clustered around the mean, and measures like variance and standard deviation quantify this spread.\n",
        "\n",
        "Dispersion:\n",
        "\n",
        "Dispersion, also known as variability or spread, describes how much the data values differ from each other and from the average (mean) value.\n",
        "\n",
        "Measures of Dispersion:\n",
        "\n",
        "Variance: Calculates the average of the squared differences between each data point and the mean. A higher variance indicates that the data points are more spread out from the mean.\n",
        "\n",
        "Standard Deviation: Is the square root of the variance, providing a measure of the average distance of data points from the mean in the original units of the data."
      ],
      "metadata": {
        "id": "Ta2qESFKCF-S"
      }
    },
    {
      "cell_type": "code",
      "source": [],
      "metadata": {
        "id": "JmhRLX56DSS5"
      },
      "execution_count": null,
      "outputs": []
    },
    {
      "cell_type": "markdown",
      "source": [],
      "metadata": {
        "id": "2Npiq2JmEnQP"
      }
    },
    {
      "cell_type": "markdown",
      "source": [
        "4 What is a box plot, and what can it tell you about the distribution of data?\n",
        "\n",
        "Annswer- A box plot (aka box and whisker plot) uses boxes and lines to depict the distributions of one or more groups of numeric data. Box limits indicate the range of the central 50% of the data, with a central line marking the median value."
      ],
      "metadata": {
        "id": "sKZ5wJyrNeQv"
      }
    },
    {
      "cell_type": "code",
      "source": [],
      "metadata": {
        "id": "eGb0EFKRNhwd"
      },
      "execution_count": null,
      "outputs": []
    },
    {
      "cell_type": "markdown",
      "source": [
        "5 Discuss the role of random sampling in making inferences about populations.\n",
        "\n",
        "Answer- Random sampling is crucial for making valid inferences about a population because it helps ensure a sample is representative, minimizing bias and allowing for generalizations about the larger group based on the sample data."
      ],
      "metadata": {
        "id": "AwHjyDNXNiNT"
      }
    },
    {
      "cell_type": "code",
      "source": [],
      "metadata": {
        "id": "9cT-kbwZNqQI"
      },
      "execution_count": null,
      "outputs": []
    },
    {
      "cell_type": "markdown",
      "source": [
        "6 Explain the concept of skewness and its types. How does skewness affect the interpretation of data?\n",
        "\n",
        "Answer- Skewness measures the deviation of a random variable's given distribution from the normal distribution, which is symmetrical on both sides. A given distribution can be either be skewed to the left or the right. Skewness risk occurs when a symmetric distribution is applied to the skewed data.\n",
        "\n",
        "Positive (Right) Skewness:\n",
        "\n",
        "The tail of the distribution is longer on the right side, meaning there are more low values and fewer high values. The mean is greater than the median.\n",
        "\n",
        "Negative (Left) Skewness:\n",
        "\n",
        "The tail is longer on the left side, indicating more high values and fewer low values. The mean is less than the median.\n",
        "\n",
        "Zero Skewness:\n",
        "\n",
        "The distribution is symmetrical, with the mean, median, and mode all equal, resembling a normal distribution.\n",
        "\n",
        "How Skewness Affects Data Interpretation:\n",
        "\n",
        "Distorted Mean:\n",
        "\n",
        "Skewness can distort the mean, making it less representative of the typical value in the dataset.\n",
        "\n",
        "Outlier Identification:\n",
        "\n",
        "Skewness helps identify outliers, as they contribute to the asymmetry and the tail of the distribution.\n",
        "\n",
        "Model Selection:\n",
        "\n",
        "Skewed data can limit the types of statistical models that can be used, as some models assume normality. Inappropriate Analysis:\n",
        "\n",
        "Skewness can lead to incorrect conclusions if statistical analyses that assume a normal distribution are applied to skewed data.\n",
        "\n",
        "Understanding Data Distribution:\n",
        "\n",
        "Skewness provides insights into the shape and nature of the data distribution, helping in understanding the data's characteristics.\n",
        "\n",
        "Data Transformation:\n",
        "\n",
        "Skewness can be addressed by transforming the data to make it more normally distributed, which can improve the performance of some statistical models."
      ],
      "metadata": {
        "id": "8WCIcDKJNq1M"
      }
    },
    {
      "cell_type": "code",
      "source": [],
      "metadata": {
        "id": "joybir-TNxKB"
      },
      "execution_count": null,
      "outputs": []
    },
    {
      "cell_type": "markdown",
      "source": [
        "7 What is the interquartile range (IQR), and how is it used to detect outliers\n",
        "\n",
        "Answer- The Interquartile Range (IQR) is a measure of statistical dispersion, representing the range of the middle 50% of data and is calculated as the difference between the 75th percentile (Q3) and the 25th percentile (Q1). It's used to detect outliers by establishing upper and lower bounds, with values outside these bounds considered outliers.\n",
        "\n"
      ],
      "metadata": {
        "id": "kmJxzHR8N6G9"
      }
    },
    {
      "cell_type": "code",
      "source": [],
      "metadata": {
        "id": "-KJx0H_TN74V"
      },
      "execution_count": null,
      "outputs": []
    },
    {
      "cell_type": "markdown",
      "source": [
        "8 Discuss the conditions under which the binomial distribution is used?\n",
        "\n",
        "Answer- The binomial distribution is used when analyzing experiments with a fixed number of independent trials, each having only two possible outcomes (\"success\" or \"failure\"), and a constant probability of success across all trials."
      ],
      "metadata": {
        "id": "UX-1Q3vMN8ad"
      }
    },
    {
      "cell_type": "code",
      "source": [],
      "metadata": {
        "id": "JIO4iPIEOB8C"
      },
      "execution_count": null,
      "outputs": []
    },
    {
      "cell_type": "markdown",
      "source": [
        "9 Explain the properties of the normal distribution and the empirical rule (68-95-99.7 rule)?\n",
        "\n",
        "Answer- The normal distribution is one of the most important probability distributions in statistics. Here's what makes it special:\n",
        "\n",
        "Bell-shaped curve: It's symmetric around the mean, forming a smooth bell-shaped curve.\n",
        "\n",
        "Mean = Median = Mode: All three central measures are the same and located at the center of the distribution.\n",
        "\n",
        "Symmetry: The left and right sides of the curve are mirror images.\n",
        "\n",
        "Asymptotic tails: The curve approaches, but never actually touches, the horizontal axis.\n",
        "\n",
        "Defined by two parameters:\n",
        "\n",
        "Mean (μ): The center of the distribution.\n",
        "\n",
        "Standard Deviation (σ): Controls the spread/width of the curve. A larger σ means a wider curve.\n",
        "\n",
        "Total area under the curve = 1: This represents the entire probability space.\n",
        "\n",
        "Most data falls near the mean: Values farther from the mean become increasingly rare.\n",
        "\n",
        "Empirical Rule (68-95-99.7 Rule) This rule gives a quick way to understand how data is distributed in a normal distribution:\n",
        "\n",
        "68% of data falls within 1 standard deviation of the mean:\n",
        "\n",
        "Between μ - σ and μ + σ\n",
        "\n",
        "95% falls within 2 standard deviations:\n",
        "\n",
        "Between μ - 2σ and μ + 2σ\n",
        "99.7% falls within 3 standard deviations:\n",
        "\n",
        "Between μ - 3σ and μ + 3σ\n",
        "\n",
        "This is super handy when analyzing real-world data that’s roughly normally distributed—like height, IQ scores, or test results.\n",
        "\n",
        "🎯 Quick Example:\n",
        "\n",
        "Let’s say you’re looking at IQ scores with:\n",
        "\n",
        "Mean (μ) = 100\n",
        "\n",
        "Standard deviation (σ) = 15\n",
        "\n",
        "Using the empirical rule:\n",
        "\n",
        "68% of people have IQs between 85 and 115\n",
        "\n",
        "95% have IQs between 70 and 130\n",
        "\n",
        "99.7% fall between 55 and 145\n",
        "\n"
      ],
      "metadata": {
        "id": "6y-Cg1lOOCve"
      }
    },
    {
      "cell_type": "markdown",
      "source": [
        "10 Provide a real-life example of a Poisson process and calculate the probability for a specific event ?\n",
        "\n",
        "Answer- A Poisson process is often used to model random events that happen independently and at a constant average rate over time or space. Let's go through a real-life example and calculate a probability for a specific event\n",
        "\n",
        "The probability that the call center receives exactly 7 calls in one hour is approximately 0.0901 or 9.01%."
      ],
      "metadata": {
        "id": "xucW-UNtOUBG"
      }
    },
    {
      "cell_type": "code",
      "source": [],
      "metadata": {
        "id": "6hQYEXoDOOyJ"
      },
      "execution_count": null,
      "outputs": []
    },
    {
      "cell_type": "markdown",
      "source": [
        "11 Explain what a random variable is and differentiate between discrete and continuous random variables.\n",
        "\n",
        "Answer-A random variable is a variable whose value is a numerical outcome of a random phenomenon, and can be either discrete (countable values) or continuous (values within an interval).\n",
        "\n",
        "In probability and statistics, random variables are used to quantify outcomes of a random occurrence, and therefore, can take on many values. Random variables are required to be measurable and are typically real numbers. For example, the letter X may be designated to represent the sum of the resulting numbers after three dice are rolled. In this case, X could be 3 (1 + 1+ 1), 18 (6 + 6 + 6), or somewhere between 3 and 18, since the highest number of a die is 6 and the lowest number is 1.\n",
        "\n",
        "A random variable is different from an algebraic variable. The variable in an algebraic equation is an unknown value that can be calculated. The equation 10 + x = 13 shows that we can calculate the specific value for x which is 3. On the other hand, a random variable has a set of values, and any of those values could be the resulting outcome as seen in the example of the dice above."
      ],
      "metadata": {
        "id": "k5QrDJUnObIF"
      }
    },
    {
      "cell_type": "code",
      "source": [],
      "metadata": {
        "id": "mnwCNPcbOe6W"
      },
      "execution_count": null,
      "outputs": []
    },
    {
      "cell_type": "markdown",
      "source": [
        "12.12 Provide an example dataset, calculate both covariance and correlation, and interpret the results.\n",
        "\n",
        "Answer-\n",
        "\n",
        "Example Dataset We’ll use two variables:\n",
        "\n",
        "X (Hours Studied): [2, 4, 6, 8, 10]\n",
        "\n",
        "Y (Exam Score): [65, 70, 75, 80, 85]\n",
        "\n",
        "Step 1: Calculate the Covariance Formula:\n",
        "\n",
        "Cov ( 𝑋 , 𝑌 )\n",
        "1 𝑛 − 1 ∑ 𝑖\n",
        "1 𝑛 ( 𝑋 𝑖 − 𝑋 ˉ ) ( 𝑌 𝑖 − 𝑌 ˉ ) Cov(X,Y)= n−1 1​\n",
        "\n",
        "i=1 ∑ n​(X i​− X ˉ )(Y i​− Y ˉ ) 𝑋 ˉ\n",
        "2 + 4 + 6 + 8 + 10 5\n",
        "6 X ˉ\n",
        "5 2+4+6+8+10​=6\n",
        "\n",
        "𝑌 ˉ\n",
        "65 + 70 + 75 + 80 + 85 5\n",
        "75 Y ˉ\n",
        "5 65+70+75+80+85​=75\n",
        "\n",
        "Now, calculate the deviations and the products:\n",
        "\n",
        "X Y 𝑋 − 𝑋 ˉ X− X ˉ\n",
        "\n",
        "𝑌 − 𝑌 ˉ Y− Y ˉ Product 2 65 -4 -10 40 4 70 -2 -5 10 6 75 0 0 0 8 80 2 5 10 10 85 4 10 40 Cov ( 𝑋 , 𝑌 )\n",
        "40 + 10 + 0 + 10 + 40 4\n",
        "100 4\n",
        "25 Cov(X,Y)= 4 40+10+0+10+40​\n",
        "4 100​=25 Step 2: Calculate the Correlation Formula:\n",
        "\n",
        "𝑟\n",
        "Cov ( 𝑋 , 𝑌 ) 𝜎 𝑋 𝜎 𝑌 r= σ X​σ Y​\n",
        "\n",
        "Cov(X,Y)​\n",
        "\n",
        "We already have Cov(X, Y) = 25.\n",
        "\n",
        "Now compute standard deviations:\n",
        "\n",
        "𝜎 𝑋\n",
        "1 4 [ ( 2 − 6 ) 2 + ( 4 − 6 ) 2 + ( 6 − 6 ) 2 + ( 8 − 6 ) 2 + ( 10 − 6 ) 2 ]\n",
        "10 ≈ 3.16 σ X​\n",
        "4 1​[(2−6) 2 +(4−6) 2 +(6−6) 2 +(8−6) 2 +(10−6) 2 ]​\n",
        "10​≈3.16\n",
        "\n",
        "𝜎 𝑌\n",
        "1 4 [ ( 65 − 75 ) 2 + ( 70 − 75 ) 2 + ( 75 − 75 ) 2 + ( 80 − 75 ) 2 + ( 85 − 75 ) 2 ]\n",
        "62.5 ≈ 7.91 σ Y​\n",
        "4 1​[(65−75) 2 +(70−75) 2 +(75−75) 2 +(80−75) 2 +(85−75) 2 ]​\n",
        "62.5​≈7.91\n",
        "\n",
        "Now plug in:\n",
        "\n",
        "𝑟\n",
        "25 3.16 × 7.91 ≈ 25 25\n",
        "1.00 r= 3.16×7.91 25​≈ 25 25​=1.00 Step 3: Interpretation Covariance = 25: This indicates a positive relationship. As hours studied increases, exam scores also tend to increase. However, the actual magnitude isn't very interpretable without context.\n",
        "\n",
        "Correlation = 1.00: This shows a perfect positive linear relationship. The variables move together exactly in proportion."
      ],
      "metadata": {
        "id": "P4aWKlalOfby"
      }
    }
  ]
}